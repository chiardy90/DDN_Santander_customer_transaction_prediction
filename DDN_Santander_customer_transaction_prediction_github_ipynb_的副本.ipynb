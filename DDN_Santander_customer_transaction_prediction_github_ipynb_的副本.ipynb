{
  "nbformat": 4,
  "nbformat_minor": 0,
  "metadata": {
    "colab": {
      "name": "DDN_Santander_customer_transaction_prediction_github.ipynb 的副本",
      "provenance": [],
      "collapsed_sections": [],
      "machine_shape": "hm",
      "include_colab_link": true
    },
    "kernelspec": {
      "name": "python3",
      "display_name": "Python 3"
    },
    "language_info": {
      "name": "python"
    },
    "accelerator": "GPU"
  },
  "cells": [
    {
      "cell_type": "markdown",
      "metadata": {
        "id": "view-in-github",
        "colab_type": "text"
      },
      "source": [
        "<a href=\"https://colab.research.google.com/github/chiardy90/DDN_Santander_customer_transaction_prediction/blob/main/DDN_Santander_customer_transaction_prediction_github_ipynb_%E7%9A%84%E5%89%AF%E6%9C%AC.ipynb\" target=\"_parent\"><img src=\"https://colab.research.google.com/assets/colab-badge.svg\" alt=\"Open In Colab\"/></a>"
      ]
    },
    {
      "cell_type": "markdown",
      "source": [
        "# Santander customer transaction prediction \n",
        "Please download this file first\n",
        "* [[Kaggle Link](https://www.kaggle.com/c/santander-customer-transaction-prediction/data)]"
      ],
      "metadata": {
        "id": "vE1flz3DEcxS"
      }
    },
    {
      "cell_type": "markdown",
      "source": [
        "## Step: 0"
      ],
      "metadata": {
        "id": "1WexjKiQgbd0"
      }
    },
    {
      "cell_type": "code",
      "source": [
        "from google.colab import drive\n",
        "drive.mount('/content/drive')"
      ],
      "metadata": {
        "colab": {
          "base_uri": "https://localhost:8080/"
        },
        "id": "XTSrMIVhhvmu",
        "outputId": "7b8642b1-5eca-43a2-b990-947118e22303"
      },
      "execution_count": 2,
      "outputs": [
        {
          "output_type": "stream",
          "name": "stdout",
          "text": [
            "Mounted at /content/drive\n"
          ]
        }
      ]
    },
    {
      "cell_type": "code",
      "source": [
        "! ls drive/MyDrive/Colab_Notebooks/Santander_Customer_Transaction_Prediction"
      ],
      "metadata": {
        "id": "IcB1xO_khX4U"
      },
      "execution_count": null,
      "outputs": []
    },
    {
      "cell_type": "code",
      "source": [
        "! cp drive/MyDrive/Colab_Notebooks/Santander_Customer_Transaction_Prediction/train.csv ./\n",
        "! cp drive/MyDrive/Colab_Notebooks/Santander_Customer_Transaction_Prediction/test.csv ./\n",
        "! cp drive/MyDrive/Colab_Notebooks/Santander_Customer_Transaction_Prediction/sample_submission.csv ./\n"
      ],
      "metadata": {
        "id": "_8zgnr5Li7qv"
      },
      "execution_count": 4,
      "outputs": []
    },
    {
      "cell_type": "markdown",
      "source": [
        "## Step: 1：Read CSV"
      ],
      "metadata": {
        "id": "SBCsjV8cFG4P"
      }
    },
    {
      "cell_type": "code",
      "execution_count": 5,
      "metadata": {
        "id": "AdtSHt3HD9L6",
        "colab": {
          "base_uri": "https://localhost:8080/",
          "height": 299
        },
        "outputId": "b63eb82e-7b3d-47be-df41-d11b2be90510"
      },
      "outputs": [
        {
          "output_type": "execute_result",
          "data": {
            "text/plain": [
              "   ID_code  target    var_0   var_1    var_2   var_3    var_4   var_5   var_6  \\\n",
              "0  train_0       0   8.9255 -6.7863  11.9081  5.0930  11.4607 -9.2834  5.1187   \n",
              "1  train_1       0  11.5006 -4.1473  13.8588  5.3890  12.3622  7.0433  5.6208   \n",
              "2  train_2       0   8.6093 -2.7457  12.0805  7.8928  10.5825 -9.0837  6.9427   \n",
              "3  train_3       0  11.0604 -2.1518   8.9522  7.1957  12.5846 -1.8361  5.8428   \n",
              "4  train_4       0   9.8369 -1.4834  12.8746  6.6375  12.2772  2.4486  5.9405   \n",
              "\n",
              "     var_7  ...  var_190  var_191  var_192  var_193  var_194  var_195  \\\n",
              "0  18.6266  ...   4.4354   3.9642   3.1364   1.6910  18.5227  -2.3978   \n",
              "1  16.5338  ...   7.6421   7.7214   2.5837  10.9516  15.4305   2.0339   \n",
              "2  14.6155  ...   2.9057   9.7905   1.6704   1.6858  21.6042   3.1417   \n",
              "3  14.9250  ...   4.4666   4.7433   0.7178   1.4214  23.0347  -1.2706   \n",
              "4  19.2514  ...  -1.4905   9.5214  -0.1508   9.1942  13.2876  -1.5121   \n",
              "\n",
              "   var_196  var_197  var_198  var_199  \n",
              "0   7.8784   8.5635  12.7803  -1.0914  \n",
              "1   8.1267   8.7889  18.3560   1.9518  \n",
              "2  -6.5213   8.2675  14.7222   0.3965  \n",
              "3  -2.9275  10.2922  17.9697  -8.9996  \n",
              "4   3.9267   9.5031  17.9974  -8.8104  \n",
              "\n",
              "[5 rows x 202 columns]"
            ],
            "text/html": [
              "\n",
              "  <div id=\"df-65f74415-8c5d-47ff-8813-9b97801e595f\">\n",
              "    <div class=\"colab-df-container\">\n",
              "      <div>\n",
              "<style scoped>\n",
              "    .dataframe tbody tr th:only-of-type {\n",
              "        vertical-align: middle;\n",
              "    }\n",
              "\n",
              "    .dataframe tbody tr th {\n",
              "        vertical-align: top;\n",
              "    }\n",
              "\n",
              "    .dataframe thead th {\n",
              "        text-align: right;\n",
              "    }\n",
              "</style>\n",
              "<table border=\"1\" class=\"dataframe\">\n",
              "  <thead>\n",
              "    <tr style=\"text-align: right;\">\n",
              "      <th></th>\n",
              "      <th>ID_code</th>\n",
              "      <th>target</th>\n",
              "      <th>var_0</th>\n",
              "      <th>var_1</th>\n",
              "      <th>var_2</th>\n",
              "      <th>var_3</th>\n",
              "      <th>var_4</th>\n",
              "      <th>var_5</th>\n",
              "      <th>var_6</th>\n",
              "      <th>var_7</th>\n",
              "      <th>...</th>\n",
              "      <th>var_190</th>\n",
              "      <th>var_191</th>\n",
              "      <th>var_192</th>\n",
              "      <th>var_193</th>\n",
              "      <th>var_194</th>\n",
              "      <th>var_195</th>\n",
              "      <th>var_196</th>\n",
              "      <th>var_197</th>\n",
              "      <th>var_198</th>\n",
              "      <th>var_199</th>\n",
              "    </tr>\n",
              "  </thead>\n",
              "  <tbody>\n",
              "    <tr>\n",
              "      <th>0</th>\n",
              "      <td>train_0</td>\n",
              "      <td>0</td>\n",
              "      <td>8.9255</td>\n",
              "      <td>-6.7863</td>\n",
              "      <td>11.9081</td>\n",
              "      <td>5.0930</td>\n",
              "      <td>11.4607</td>\n",
              "      <td>-9.2834</td>\n",
              "      <td>5.1187</td>\n",
              "      <td>18.6266</td>\n",
              "      <td>...</td>\n",
              "      <td>4.4354</td>\n",
              "      <td>3.9642</td>\n",
              "      <td>3.1364</td>\n",
              "      <td>1.6910</td>\n",
              "      <td>18.5227</td>\n",
              "      <td>-2.3978</td>\n",
              "      <td>7.8784</td>\n",
              "      <td>8.5635</td>\n",
              "      <td>12.7803</td>\n",
              "      <td>-1.0914</td>\n",
              "    </tr>\n",
              "    <tr>\n",
              "      <th>1</th>\n",
              "      <td>train_1</td>\n",
              "      <td>0</td>\n",
              "      <td>11.5006</td>\n",
              "      <td>-4.1473</td>\n",
              "      <td>13.8588</td>\n",
              "      <td>5.3890</td>\n",
              "      <td>12.3622</td>\n",
              "      <td>7.0433</td>\n",
              "      <td>5.6208</td>\n",
              "      <td>16.5338</td>\n",
              "      <td>...</td>\n",
              "      <td>7.6421</td>\n",
              "      <td>7.7214</td>\n",
              "      <td>2.5837</td>\n",
              "      <td>10.9516</td>\n",
              "      <td>15.4305</td>\n",
              "      <td>2.0339</td>\n",
              "      <td>8.1267</td>\n",
              "      <td>8.7889</td>\n",
              "      <td>18.3560</td>\n",
              "      <td>1.9518</td>\n",
              "    </tr>\n",
              "    <tr>\n",
              "      <th>2</th>\n",
              "      <td>train_2</td>\n",
              "      <td>0</td>\n",
              "      <td>8.6093</td>\n",
              "      <td>-2.7457</td>\n",
              "      <td>12.0805</td>\n",
              "      <td>7.8928</td>\n",
              "      <td>10.5825</td>\n",
              "      <td>-9.0837</td>\n",
              "      <td>6.9427</td>\n",
              "      <td>14.6155</td>\n",
              "      <td>...</td>\n",
              "      <td>2.9057</td>\n",
              "      <td>9.7905</td>\n",
              "      <td>1.6704</td>\n",
              "      <td>1.6858</td>\n",
              "      <td>21.6042</td>\n",
              "      <td>3.1417</td>\n",
              "      <td>-6.5213</td>\n",
              "      <td>8.2675</td>\n",
              "      <td>14.7222</td>\n",
              "      <td>0.3965</td>\n",
              "    </tr>\n",
              "    <tr>\n",
              "      <th>3</th>\n",
              "      <td>train_3</td>\n",
              "      <td>0</td>\n",
              "      <td>11.0604</td>\n",
              "      <td>-2.1518</td>\n",
              "      <td>8.9522</td>\n",
              "      <td>7.1957</td>\n",
              "      <td>12.5846</td>\n",
              "      <td>-1.8361</td>\n",
              "      <td>5.8428</td>\n",
              "      <td>14.9250</td>\n",
              "      <td>...</td>\n",
              "      <td>4.4666</td>\n",
              "      <td>4.7433</td>\n",
              "      <td>0.7178</td>\n",
              "      <td>1.4214</td>\n",
              "      <td>23.0347</td>\n",
              "      <td>-1.2706</td>\n",
              "      <td>-2.9275</td>\n",
              "      <td>10.2922</td>\n",
              "      <td>17.9697</td>\n",
              "      <td>-8.9996</td>\n",
              "    </tr>\n",
              "    <tr>\n",
              "      <th>4</th>\n",
              "      <td>train_4</td>\n",
              "      <td>0</td>\n",
              "      <td>9.8369</td>\n",
              "      <td>-1.4834</td>\n",
              "      <td>12.8746</td>\n",
              "      <td>6.6375</td>\n",
              "      <td>12.2772</td>\n",
              "      <td>2.4486</td>\n",
              "      <td>5.9405</td>\n",
              "      <td>19.2514</td>\n",
              "      <td>...</td>\n",
              "      <td>-1.4905</td>\n",
              "      <td>9.5214</td>\n",
              "      <td>-0.1508</td>\n",
              "      <td>9.1942</td>\n",
              "      <td>13.2876</td>\n",
              "      <td>-1.5121</td>\n",
              "      <td>3.9267</td>\n",
              "      <td>9.5031</td>\n",
              "      <td>17.9974</td>\n",
              "      <td>-8.8104</td>\n",
              "    </tr>\n",
              "  </tbody>\n",
              "</table>\n",
              "<p>5 rows × 202 columns</p>\n",
              "</div>\n",
              "      <button class=\"colab-df-convert\" onclick=\"convertToInteractive('df-65f74415-8c5d-47ff-8813-9b97801e595f')\"\n",
              "              title=\"Convert this dataframe to an interactive table.\"\n",
              "              style=\"display:none;\">\n",
              "        \n",
              "  <svg xmlns=\"http://www.w3.org/2000/svg\" height=\"24px\"viewBox=\"0 0 24 24\"\n",
              "       width=\"24px\">\n",
              "    <path d=\"M0 0h24v24H0V0z\" fill=\"none\"/>\n",
              "    <path d=\"M18.56 5.44l.94 2.06.94-2.06 2.06-.94-2.06-.94-.94-2.06-.94 2.06-2.06.94zm-11 1L8.5 8.5l.94-2.06 2.06-.94-2.06-.94L8.5 2.5l-.94 2.06-2.06.94zm10 10l.94 2.06.94-2.06 2.06-.94-2.06-.94-.94-2.06-.94 2.06-2.06.94z\"/><path d=\"M17.41 7.96l-1.37-1.37c-.4-.4-.92-.59-1.43-.59-.52 0-1.04.2-1.43.59L10.3 9.45l-7.72 7.72c-.78.78-.78 2.05 0 2.83L4 21.41c.39.39.9.59 1.41.59.51 0 1.02-.2 1.41-.59l7.78-7.78 2.81-2.81c.8-.78.8-2.07 0-2.86zM5.41 20L4 18.59l7.72-7.72 1.47 1.35L5.41 20z\"/>\n",
              "  </svg>\n",
              "      </button>\n",
              "      \n",
              "  <style>\n",
              "    .colab-df-container {\n",
              "      display:flex;\n",
              "      flex-wrap:wrap;\n",
              "      gap: 12px;\n",
              "    }\n",
              "\n",
              "    .colab-df-convert {\n",
              "      background-color: #E8F0FE;\n",
              "      border: none;\n",
              "      border-radius: 50%;\n",
              "      cursor: pointer;\n",
              "      display: none;\n",
              "      fill: #1967D2;\n",
              "      height: 32px;\n",
              "      padding: 0 0 0 0;\n",
              "      width: 32px;\n",
              "    }\n",
              "\n",
              "    .colab-df-convert:hover {\n",
              "      background-color: #E2EBFA;\n",
              "      box-shadow: 0px 1px 2px rgba(60, 64, 67, 0.3), 0px 1px 3px 1px rgba(60, 64, 67, 0.15);\n",
              "      fill: #174EA6;\n",
              "    }\n",
              "\n",
              "    [theme=dark] .colab-df-convert {\n",
              "      background-color: #3B4455;\n",
              "      fill: #D2E3FC;\n",
              "    }\n",
              "\n",
              "    [theme=dark] .colab-df-convert:hover {\n",
              "      background-color: #434B5C;\n",
              "      box-shadow: 0px 1px 3px 1px rgba(0, 0, 0, 0.15);\n",
              "      filter: drop-shadow(0px 1px 2px rgba(0, 0, 0, 0.3));\n",
              "      fill: #FFFFFF;\n",
              "    }\n",
              "  </style>\n",
              "\n",
              "      <script>\n",
              "        const buttonEl =\n",
              "          document.querySelector('#df-65f74415-8c5d-47ff-8813-9b97801e595f button.colab-df-convert');\n",
              "        buttonEl.style.display =\n",
              "          google.colab.kernel.accessAllowed ? 'block' : 'none';\n",
              "\n",
              "        async function convertToInteractive(key) {\n",
              "          const element = document.querySelector('#df-65f74415-8c5d-47ff-8813-9b97801e595f');\n",
              "          const dataTable =\n",
              "            await google.colab.kernel.invokeFunction('convertToInteractive',\n",
              "                                                     [key], {});\n",
              "          if (!dataTable) return;\n",
              "\n",
              "          const docLinkHtml = 'Like what you see? Visit the ' +\n",
              "            '<a target=\"_blank\" href=https://colab.research.google.com/notebooks/data_table.ipynb>data table notebook</a>'\n",
              "            + ' to learn more about interactive tables.';\n",
              "          element.innerHTML = '';\n",
              "          dataTable['output_type'] = 'display_data';\n",
              "          await google.colab.output.renderOutput(dataTable, element);\n",
              "          const docLink = document.createElement('div');\n",
              "          docLink.innerHTML = docLinkHtml;\n",
              "          element.appendChild(docLink);\n",
              "        }\n",
              "      </script>\n",
              "    </div>\n",
              "  </div>\n",
              "  "
            ]
          },
          "metadata": {},
          "execution_count": 5
        }
      ],
      "source": [
        "import pandas as pd\n",
        "\n",
        "Dataset = pd.read_csv(\"train.csv\")\n",
        "\n",
        "Dataset.head()"
      ]
    },
    {
      "cell_type": "markdown",
      "source": [
        "## Step: 2：Data Visualization and Feature Engineering.\n"
      ],
      "metadata": {
        "id": "f8zJUJODFOU0"
      }
    },
    {
      "cell_type": "code",
      "source": [
        "# note：enumerate(), Dataset.columns, isnull(), sum()\n",
        "\n",
        "# cheak NaN\n",
        "for index, col in enumerate(Dataset.columns):\n",
        "  print(f\"第{index+1}個欄位(i.e., {col}) 的缺失值有{Dataset[col].isnull().sum()}筆\")"
      ],
      "metadata": {
        "colab": {
          "base_uri": "https://localhost:8080/"
        },
        "id": "ikJCGgBbE-c9",
        "outputId": "bacddd00-1771-4a05-bbf3-d8d4b7ea9692"
      },
      "execution_count": 6,
      "outputs": [
        {
          "output_type": "stream",
          "name": "stdout",
          "text": [
            "第1個欄位(i.e., ID_code) 的缺失值有0筆\n",
            "第2個欄位(i.e., target) 的缺失值有0筆\n",
            "第3個欄位(i.e., var_0) 的缺失值有0筆\n",
            "第4個欄位(i.e., var_1) 的缺失值有0筆\n",
            "第5個欄位(i.e., var_2) 的缺失值有0筆\n",
            "第6個欄位(i.e., var_3) 的缺失值有0筆\n",
            "第7個欄位(i.e., var_4) 的缺失值有0筆\n",
            "第8個欄位(i.e., var_5) 的缺失值有0筆\n",
            "第9個欄位(i.e., var_6) 的缺失值有0筆\n",
            "第10個欄位(i.e., var_7) 的缺失值有0筆\n",
            "第11個欄位(i.e., var_8) 的缺失值有0筆\n",
            "第12個欄位(i.e., var_9) 的缺失值有0筆\n",
            "第13個欄位(i.e., var_10) 的缺失值有0筆\n",
            "第14個欄位(i.e., var_11) 的缺失值有0筆\n",
            "第15個欄位(i.e., var_12) 的缺失值有0筆\n",
            "第16個欄位(i.e., var_13) 的缺失值有0筆\n",
            "第17個欄位(i.e., var_14) 的缺失值有0筆\n",
            "第18個欄位(i.e., var_15) 的缺失值有0筆\n",
            "第19個欄位(i.e., var_16) 的缺失值有0筆\n",
            "第20個欄位(i.e., var_17) 的缺失值有0筆\n",
            "第21個欄位(i.e., var_18) 的缺失值有0筆\n",
            "第22個欄位(i.e., var_19) 的缺失值有0筆\n",
            "第23個欄位(i.e., var_20) 的缺失值有0筆\n",
            "第24個欄位(i.e., var_21) 的缺失值有0筆\n",
            "第25個欄位(i.e., var_22) 的缺失值有0筆\n",
            "第26個欄位(i.e., var_23) 的缺失值有0筆\n",
            "第27個欄位(i.e., var_24) 的缺失值有0筆\n",
            "第28個欄位(i.e., var_25) 的缺失值有0筆\n",
            "第29個欄位(i.e., var_26) 的缺失值有0筆\n",
            "第30個欄位(i.e., var_27) 的缺失值有0筆\n",
            "第31個欄位(i.e., var_28) 的缺失值有0筆\n",
            "第32個欄位(i.e., var_29) 的缺失值有0筆\n",
            "第33個欄位(i.e., var_30) 的缺失值有0筆\n",
            "第34個欄位(i.e., var_31) 的缺失值有0筆\n",
            "第35個欄位(i.e., var_32) 的缺失值有0筆\n",
            "第36個欄位(i.e., var_33) 的缺失值有0筆\n",
            "第37個欄位(i.e., var_34) 的缺失值有0筆\n",
            "第38個欄位(i.e., var_35) 的缺失值有0筆\n",
            "第39個欄位(i.e., var_36) 的缺失值有0筆\n",
            "第40個欄位(i.e., var_37) 的缺失值有0筆\n",
            "第41個欄位(i.e., var_38) 的缺失值有0筆\n",
            "第42個欄位(i.e., var_39) 的缺失值有0筆\n",
            "第43個欄位(i.e., var_40) 的缺失值有0筆\n",
            "第44個欄位(i.e., var_41) 的缺失值有0筆\n",
            "第45個欄位(i.e., var_42) 的缺失值有0筆\n",
            "第46個欄位(i.e., var_43) 的缺失值有0筆\n",
            "第47個欄位(i.e., var_44) 的缺失值有0筆\n",
            "第48個欄位(i.e., var_45) 的缺失值有0筆\n",
            "第49個欄位(i.e., var_46) 的缺失值有0筆\n",
            "第50個欄位(i.e., var_47) 的缺失值有0筆\n",
            "第51個欄位(i.e., var_48) 的缺失值有0筆\n",
            "第52個欄位(i.e., var_49) 的缺失值有0筆\n",
            "第53個欄位(i.e., var_50) 的缺失值有0筆\n",
            "第54個欄位(i.e., var_51) 的缺失值有0筆\n",
            "第55個欄位(i.e., var_52) 的缺失值有0筆\n",
            "第56個欄位(i.e., var_53) 的缺失值有0筆\n",
            "第57個欄位(i.e., var_54) 的缺失值有0筆\n",
            "第58個欄位(i.e., var_55) 的缺失值有0筆\n",
            "第59個欄位(i.e., var_56) 的缺失值有0筆\n",
            "第60個欄位(i.e., var_57) 的缺失值有0筆\n",
            "第61個欄位(i.e., var_58) 的缺失值有0筆\n",
            "第62個欄位(i.e., var_59) 的缺失值有0筆\n",
            "第63個欄位(i.e., var_60) 的缺失值有0筆\n",
            "第64個欄位(i.e., var_61) 的缺失值有0筆\n",
            "第65個欄位(i.e., var_62) 的缺失值有0筆\n",
            "第66個欄位(i.e., var_63) 的缺失值有0筆\n",
            "第67個欄位(i.e., var_64) 的缺失值有0筆\n",
            "第68個欄位(i.e., var_65) 的缺失值有0筆\n",
            "第69個欄位(i.e., var_66) 的缺失值有0筆\n",
            "第70個欄位(i.e., var_67) 的缺失值有0筆\n",
            "第71個欄位(i.e., var_68) 的缺失值有0筆\n",
            "第72個欄位(i.e., var_69) 的缺失值有0筆\n",
            "第73個欄位(i.e., var_70) 的缺失值有0筆\n",
            "第74個欄位(i.e., var_71) 的缺失值有0筆\n",
            "第75個欄位(i.e., var_72) 的缺失值有0筆\n",
            "第76個欄位(i.e., var_73) 的缺失值有0筆\n",
            "第77個欄位(i.e., var_74) 的缺失值有0筆\n",
            "第78個欄位(i.e., var_75) 的缺失值有0筆\n",
            "第79個欄位(i.e., var_76) 的缺失值有0筆\n",
            "第80個欄位(i.e., var_77) 的缺失值有0筆\n",
            "第81個欄位(i.e., var_78) 的缺失值有0筆\n",
            "第82個欄位(i.e., var_79) 的缺失值有0筆\n",
            "第83個欄位(i.e., var_80) 的缺失值有0筆\n",
            "第84個欄位(i.e., var_81) 的缺失值有0筆\n",
            "第85個欄位(i.e., var_82) 的缺失值有0筆\n",
            "第86個欄位(i.e., var_83) 的缺失值有0筆\n",
            "第87個欄位(i.e., var_84) 的缺失值有0筆\n",
            "第88個欄位(i.e., var_85) 的缺失值有0筆\n",
            "第89個欄位(i.e., var_86) 的缺失值有0筆\n",
            "第90個欄位(i.e., var_87) 的缺失值有0筆\n",
            "第91個欄位(i.e., var_88) 的缺失值有0筆\n",
            "第92個欄位(i.e., var_89) 的缺失值有0筆\n",
            "第93個欄位(i.e., var_90) 的缺失值有0筆\n",
            "第94個欄位(i.e., var_91) 的缺失值有0筆\n",
            "第95個欄位(i.e., var_92) 的缺失值有0筆\n",
            "第96個欄位(i.e., var_93) 的缺失值有0筆\n",
            "第97個欄位(i.e., var_94) 的缺失值有0筆\n",
            "第98個欄位(i.e., var_95) 的缺失值有0筆\n",
            "第99個欄位(i.e., var_96) 的缺失值有0筆\n",
            "第100個欄位(i.e., var_97) 的缺失值有0筆\n",
            "第101個欄位(i.e., var_98) 的缺失值有0筆\n",
            "第102個欄位(i.e., var_99) 的缺失值有0筆\n",
            "第103個欄位(i.e., var_100) 的缺失值有0筆\n",
            "第104個欄位(i.e., var_101) 的缺失值有0筆\n",
            "第105個欄位(i.e., var_102) 的缺失值有0筆\n",
            "第106個欄位(i.e., var_103) 的缺失值有0筆\n",
            "第107個欄位(i.e., var_104) 的缺失值有0筆\n",
            "第108個欄位(i.e., var_105) 的缺失值有0筆\n",
            "第109個欄位(i.e., var_106) 的缺失值有0筆\n",
            "第110個欄位(i.e., var_107) 的缺失值有0筆\n",
            "第111個欄位(i.e., var_108) 的缺失值有0筆\n",
            "第112個欄位(i.e., var_109) 的缺失值有0筆\n",
            "第113個欄位(i.e., var_110) 的缺失值有0筆\n",
            "第114個欄位(i.e., var_111) 的缺失值有0筆\n",
            "第115個欄位(i.e., var_112) 的缺失值有0筆\n",
            "第116個欄位(i.e., var_113) 的缺失值有0筆\n",
            "第117個欄位(i.e., var_114) 的缺失值有0筆\n",
            "第118個欄位(i.e., var_115) 的缺失值有0筆\n",
            "第119個欄位(i.e., var_116) 的缺失值有0筆\n",
            "第120個欄位(i.e., var_117) 的缺失值有0筆\n",
            "第121個欄位(i.e., var_118) 的缺失值有0筆\n",
            "第122個欄位(i.e., var_119) 的缺失值有0筆\n",
            "第123個欄位(i.e., var_120) 的缺失值有0筆\n",
            "第124個欄位(i.e., var_121) 的缺失值有0筆\n",
            "第125個欄位(i.e., var_122) 的缺失值有0筆\n",
            "第126個欄位(i.e., var_123) 的缺失值有0筆\n",
            "第127個欄位(i.e., var_124) 的缺失值有0筆\n",
            "第128個欄位(i.e., var_125) 的缺失值有0筆\n",
            "第129個欄位(i.e., var_126) 的缺失值有0筆\n",
            "第130個欄位(i.e., var_127) 的缺失值有0筆\n",
            "第131個欄位(i.e., var_128) 的缺失值有0筆\n",
            "第132個欄位(i.e., var_129) 的缺失值有0筆\n",
            "第133個欄位(i.e., var_130) 的缺失值有0筆\n",
            "第134個欄位(i.e., var_131) 的缺失值有0筆\n",
            "第135個欄位(i.e., var_132) 的缺失值有0筆\n",
            "第136個欄位(i.e., var_133) 的缺失值有0筆\n",
            "第137個欄位(i.e., var_134) 的缺失值有0筆\n",
            "第138個欄位(i.e., var_135) 的缺失值有0筆\n",
            "第139個欄位(i.e., var_136) 的缺失值有0筆\n",
            "第140個欄位(i.e., var_137) 的缺失值有0筆\n",
            "第141個欄位(i.e., var_138) 的缺失值有0筆\n",
            "第142個欄位(i.e., var_139) 的缺失值有0筆\n",
            "第143個欄位(i.e., var_140) 的缺失值有0筆\n",
            "第144個欄位(i.e., var_141) 的缺失值有0筆\n",
            "第145個欄位(i.e., var_142) 的缺失值有0筆\n",
            "第146個欄位(i.e., var_143) 的缺失值有0筆\n",
            "第147個欄位(i.e., var_144) 的缺失值有0筆\n",
            "第148個欄位(i.e., var_145) 的缺失值有0筆\n",
            "第149個欄位(i.e., var_146) 的缺失值有0筆\n",
            "第150個欄位(i.e., var_147) 的缺失值有0筆\n",
            "第151個欄位(i.e., var_148) 的缺失值有0筆\n",
            "第152個欄位(i.e., var_149) 的缺失值有0筆\n",
            "第153個欄位(i.e., var_150) 的缺失值有0筆\n",
            "第154個欄位(i.e., var_151) 的缺失值有0筆\n",
            "第155個欄位(i.e., var_152) 的缺失值有0筆\n",
            "第156個欄位(i.e., var_153) 的缺失值有0筆\n",
            "第157個欄位(i.e., var_154) 的缺失值有0筆\n",
            "第158個欄位(i.e., var_155) 的缺失值有0筆\n",
            "第159個欄位(i.e., var_156) 的缺失值有0筆\n",
            "第160個欄位(i.e., var_157) 的缺失值有0筆\n",
            "第161個欄位(i.e., var_158) 的缺失值有0筆\n",
            "第162個欄位(i.e., var_159) 的缺失值有0筆\n",
            "第163個欄位(i.e., var_160) 的缺失值有0筆\n",
            "第164個欄位(i.e., var_161) 的缺失值有0筆\n",
            "第165個欄位(i.e., var_162) 的缺失值有0筆\n",
            "第166個欄位(i.e., var_163) 的缺失值有0筆\n",
            "第167個欄位(i.e., var_164) 的缺失值有0筆\n",
            "第168個欄位(i.e., var_165) 的缺失值有0筆\n",
            "第169個欄位(i.e., var_166) 的缺失值有0筆\n",
            "第170個欄位(i.e., var_167) 的缺失值有0筆\n",
            "第171個欄位(i.e., var_168) 的缺失值有0筆\n",
            "第172個欄位(i.e., var_169) 的缺失值有0筆\n",
            "第173個欄位(i.e., var_170) 的缺失值有0筆\n",
            "第174個欄位(i.e., var_171) 的缺失值有0筆\n",
            "第175個欄位(i.e., var_172) 的缺失值有0筆\n",
            "第176個欄位(i.e., var_173) 的缺失值有0筆\n",
            "第177個欄位(i.e., var_174) 的缺失值有0筆\n",
            "第178個欄位(i.e., var_175) 的缺失值有0筆\n",
            "第179個欄位(i.e., var_176) 的缺失值有0筆\n",
            "第180個欄位(i.e., var_177) 的缺失值有0筆\n",
            "第181個欄位(i.e., var_178) 的缺失值有0筆\n",
            "第182個欄位(i.e., var_179) 的缺失值有0筆\n",
            "第183個欄位(i.e., var_180) 的缺失值有0筆\n",
            "第184個欄位(i.e., var_181) 的缺失值有0筆\n",
            "第185個欄位(i.e., var_182) 的缺失值有0筆\n",
            "第186個欄位(i.e., var_183) 的缺失值有0筆\n",
            "第187個欄位(i.e., var_184) 的缺失值有0筆\n",
            "第188個欄位(i.e., var_185) 的缺失值有0筆\n",
            "第189個欄位(i.e., var_186) 的缺失值有0筆\n",
            "第190個欄位(i.e., var_187) 的缺失值有0筆\n",
            "第191個欄位(i.e., var_188) 的缺失值有0筆\n",
            "第192個欄位(i.e., var_189) 的缺失值有0筆\n",
            "第193個欄位(i.e., var_190) 的缺失值有0筆\n",
            "第194個欄位(i.e., var_191) 的缺失值有0筆\n",
            "第195個欄位(i.e., var_192) 的缺失值有0筆\n",
            "第196個欄位(i.e., var_193) 的缺失值有0筆\n",
            "第197個欄位(i.e., var_194) 的缺失值有0筆\n",
            "第198個欄位(i.e., var_195) 的缺失值有0筆\n",
            "第199個欄位(i.e., var_196) 的缺失值有0筆\n",
            "第200個欄位(i.e., var_197) 的缺失值有0筆\n",
            "第201個欄位(i.e., var_198) 的缺失值有0筆\n",
            "第202個欄位(i.e., var_199) 的缺失值有0筆\n"
          ]
        }
      ]
    },
    {
      "cell_type": "code",
      "source": [
        "# note：plt.hist/plot/pie\n",
        "import matplotlib.pyplot as plt"
      ],
      "metadata": {
        "id": "um02qpDWIIWS"
      },
      "execution_count": 7,
      "outputs": []
    },
    {
      "cell_type": "markdown",
      "source": [
        "### (ID_code)"
      ],
      "metadata": {
        "id": "KqBAr3JdHhl1"
      }
    },
    {
      "cell_type": "code",
      "source": [
        "print(Dataset[\"ID_code\"])\n",
        "\n",
        "# need drop\n",
        "Dataset = Dataset.drop([\"ID_code\"], axis=1)"
      ],
      "metadata": {
        "colab": {
          "base_uri": "https://localhost:8080/"
        },
        "id": "gC9vn_CXIDha",
        "outputId": "70777074-d632-4168-cb7a-d2d91c9838f0"
      },
      "execution_count": 8,
      "outputs": [
        {
          "output_type": "stream",
          "name": "stdout",
          "text": [
            "0              train_0\n",
            "1              train_1\n",
            "2              train_2\n",
            "3              train_3\n",
            "4              train_4\n",
            "              ...     \n",
            "199995    train_199995\n",
            "199996    train_199996\n",
            "199997    train_199997\n",
            "199998    train_199998\n",
            "199999    train_199999\n",
            "Name: ID_code, Length: 200000, dtype: object\n"
          ]
        }
      ]
    },
    {
      "cell_type": "markdown",
      "source": [
        "### (target)"
      ],
      "metadata": {
        "id": "VBfEvDG0Hkd9"
      }
    },
    {
      "cell_type": "code",
      "source": [
        "# note：Dataset[\"target\"], value_counts()\n",
        "\n",
        "print(Dataset[\"target\"].value_counts())\n",
        "\n",
        "plt.pie(Dataset[\"target\"].value_counts(), labels=[\"0\", \"1\"])\n",
        "plt.show()"
      ],
      "metadata": {
        "colab": {
          "base_uri": "https://localhost:8080/",
          "height": 300
        },
        "id": "FjrqaoPJI633",
        "outputId": "539e7548-7109-438f-c1a2-1abae509566f"
      },
      "execution_count": 9,
      "outputs": [
        {
          "output_type": "stream",
          "name": "stdout",
          "text": [
            "0    179902\n",
            "1     20098\n",
            "Name: target, dtype: int64\n"
          ]
        },
        {
          "output_type": "display_data",
          "data": {
            "text/plain": [
              "<Figure size 432x288 with 1 Axes>"
            ],
            "image/png": "[encoded data removed]"
          },
          "metadata": {}
        }
      ]
    },
    {
      "cell_type": "markdown",
      "source": [
        "## Step 3: Identify Numerical and Categorical Features"
      ],
      "metadata": {
        "id": "oqc4hRi1FUHU"
      }
    },
    {
      "cell_type": "code",
      "source": [
        "# note：dtype\n",
        "numerical_attributes = []\n",
        "categorical_attributes = []\n",
        "\n",
        "for col in Dataset.columns:\n",
        "\n",
        "  col_type = Dataset[col].dtype\n",
        "  # print(col_type)\n",
        "\n",
        "  if col_type == \"int64\" or col_type == \"float64\":\n",
        "    numerical_attributes.append(col)\n",
        "\n",
        "  elif col_type == \"object\":\n",
        "    categorical_attributes.append(col)\n",
        "\n",
        "# then doing Feature Scaling later，so remove Y.\n",
        "numerical_attributes.remove(\"target\")\n",
        "  \n",
        "print(f\"數值型的欄位有:{numerical_attributes}\")\n",
        "print(f\"類別型的欄位有{categorical_attributes}\")"
      ],
      "metadata": {
        "colab": {
          "base_uri": "https://localhost:8080/"
        },
        "id": "lNv8_pGmFfL1",
        "outputId": "be662fc5-cc8a-4d47-cd5b-278d959d917a"
      },
      "execution_count": 10,
      "outputs": [
        {
          "output_type": "stream",
          "name": "stdout",
          "text": [
            "數值型的欄位有:['var_0', 'var_1', 'var_2', 'var_3', 'var_4', 'var_5', 'var_6', 'var_7', 'var_8', 'var_9', 'var_10', 'var_11', 'var_12', 'var_13', 'var_14', 'var_15', 'var_16', 'var_17', 'var_18', 'var_19', 'var_20', 'var_21', 'var_22', 'var_23', 'var_24', 'var_25', 'var_26', 'var_27', 'var_28', 'var_29', 'var_30', 'var_31', 'var_32', 'var_33', 'var_34', 'var_35', 'var_36', 'var_37', 'var_38', 'var_39', 'var_40', 'var_41', 'var_42', 'var_43', 'var_44', 'var_45', 'var_46', 'var_47', 'var_48', 'var_49', 'var_50', 'var_51', 'var_52', 'var_53', 'var_54', 'var_55', 'var_56', 'var_57', 'var_58', 'var_59', 'var_60', 'var_61', 'var_62', 'var_63', 'var_64', 'var_65', 'var_66', 'var_67', 'var_68', 'var_69', 'var_70', 'var_71', 'var_72', 'var_73', 'var_74', 'var_75', 'var_76', 'var_77', 'var_78', 'var_79', 'var_80', 'var_81', 'var_82', 'var_83', 'var_84', 'var_85', 'var_86', 'var_87', 'var_88', 'var_89', 'var_90', 'var_91', 'var_92', 'var_93', 'var_94', 'var_95', 'var_96', 'var_97', 'var_98', 'var_99', 'var_100', 'var_101', 'var_102', 'var_103', 'var_104', 'var_105', 'var_106', 'var_107', 'var_108', 'var_109', 'var_110', 'var_111', 'var_112', 'var_113', 'var_114', 'var_115', 'var_116', 'var_117', 'var_118', 'var_119', 'var_120', 'var_121', 'var_122', 'var_123', 'var_124', 'var_125', 'var_126', 'var_127', 'var_128', 'var_129', 'var_130', 'var_131', 'var_132', 'var_133', 'var_134', 'var_135', 'var_136', 'var_137', 'var_138', 'var_139', 'var_140', 'var_141', 'var_142', 'var_143', 'var_144', 'var_145', 'var_146', 'var_147', 'var_148', 'var_149', 'var_150', 'var_151', 'var_152', 'var_153', 'var_154', 'var_155', 'var_156', 'var_157', 'var_158', 'var_159', 'var_160', 'var_161', 'var_162', 'var_163', 'var_164', 'var_165', 'var_166', 'var_167', 'var_168', 'var_169', 'var_170', 'var_171', 'var_172', 'var_173', 'var_174', 'var_175', 'var_176', 'var_177', 'var_178', 'var_179', 'var_180', 'var_181', 'var_182', 'var_183', 'var_184', 'var_185', 'var_186', 'var_187', 'var_188', 'var_189', 'var_190', 'var_191', 'var_192', 'var_193', 'var_194', 'var_195', 'var_196', 'var_197', 'var_198', 'var_199']\n",
            "類別型的欄位有[]\n"
          ]
        }
      ]
    },
    {
      "cell_type": "markdown",
      "source": [
        "## Step 4 : Perform One-Hot Encoding\n",
        "But it's all numerical data, no need for this step"
      ],
      "metadata": {
        "id": "5Y0qKqobFfrg"
      }
    },
    {
      "cell_type": "markdown",
      "source": [
        "## Step 5: Perform data segmentation"
      ],
      "metadata": {
        "id": "eiq3FaDoFpS5"
      }
    },
    {
      "cell_type": "code",
      "source": [
        "# note：train_test_split(X, Y, test_size)\n",
        "\n",
        "from sklearn.model_selection import train_test_split\n",
        "\n",
        "Y = Dataset[\"target\"]\n",
        "X= Dataset.drop([\"target\"], axis=1)\n",
        "\n",
        "X_train, X_dev, Y_train, Y_dev = train_test_split(X, Y, test_size=0.2)\n",
        "\n",
        "print(f\"訓練資料集(X) {X_train.shape}\")\n",
        "print(f\"訓練資料集(Y) {Y_train.shape}\")\n",
        "print(f\"驗證(/開發)資料集(X) {X_dev.shape}\")\n",
        "print(f\"驗證(/開發)資料集(Y) {Y_dev.shape}\")"
      ],
      "metadata": {
        "colab": {
          "base_uri": "https://localhost:8080/"
        },
        "id": "-BdZAsXVM2gh",
        "outputId": "0b0fdbd4-b0bc-4436-dc80-f1a84747fa1f"
      },
      "execution_count": 11,
      "outputs": [
        {
          "output_type": "stream",
          "name": "stdout",
          "text": [
            "訓練資料集(X) (160000, 200)\n",
            "訓練資料集(Y) (160000,)\n",
            "驗證(/開發)資料集(X) (40000, 200)\n",
            "驗證(/開發)資料集(Y) (40000,)\n"
          ]
        }
      ]
    },
    {
      "cell_type": "markdown",
      "source": [
        "## Step 6: Perform Feature Scaling"
      ],
      "metadata": {
        "id": "RVkB09iVFjnk"
      }
    },
    {
      "cell_type": "code",
      "source": [
        "from sklearn.preprocessing import StandardScaler\n",
        "\n",
        "X_train_numerical = X_train[numerical_attributes]\n",
        "X_dev_numerical = X_dev[numerical_attributes]\n",
        "\n",
        "# fit\n",
        "x_scaler = StandardScaler().fit(X_train_numerical)\n",
        "\n",
        "# Use the scaler to transform the training dataset and the validation dataset\n",
        "X_train_trans = x_scaler.transform(X_train_numerical)\n",
        "X_dev_trans = x_scaler.transform(X_dev_numerical)\n",
        "\n",
        "# Override the field\n",
        "X_train[numerical_attributes] = X_train_trans\n",
        "X_dev[numerical_attributes] = X_dev_trans\n"
      ],
      "metadata": {
        "id": "DxlAKjmBFmh2"
      },
      "execution_count": 12,
      "outputs": []
    },
    {
      "cell_type": "code",
      "source": [
        "X_train.shape"
      ],
      "metadata": {
        "colab": {
          "base_uri": "https://localhost:8080/"
        },
        "id": "A20jRmvPr3yT",
        "outputId": "b0223c35-d9d7-4e04-b78f-7ce61be559fd"
      },
      "execution_count": 13,
      "outputs": [
        {
          "output_type": "execute_result",
          "data": {
            "text/plain": [
              "(160000, 200)"
            ]
          },
          "metadata": {},
          "execution_count": 13
        }
      ]
    },
    {
      "cell_type": "markdown",
      "source": [
        "## Step 7: Designing Deep Learning Models"
      ],
      "metadata": {
        "id": "GgUc4RJrFuJk"
      }
    },
    {
      "cell_type": "code",
      "source": [
        "import tensorflow as tf\n",
        "from tensorflow.keras.regularizers import l2\n",
        "\n",
        "L2_Lambda = 0.01\n",
        "Drop_Prob = 0.1\n",
        "\n",
        "# Design Model\n",
        "DNN_model = tf.keras.models.Sequential([\n",
        "\n",
        "  # input_layer\n",
        "  tf.keras.layers.Flatten(input_shape=(200, ), name=\"input_layer\"),\n",
        "\n",
        "  # hidden_layer_\n",
        "  tf.keras.layers.Dense(units=512, activation=\"relu\", name=\"hidden_layer_1\", kernel_regularizer=l2(L2_Lambda)),\n",
        "  tf.keras.layers.Dropout(Drop_Prob),\n",
        "  tf.keras.layers.Dense(units=1024, activation=\"relu\", name=\"hidden_layer_2\", kernel_regularizer=l2(L2_Lambda)),\n",
        "  tf.keras.layers.Dropout(Drop_Prob),\n",
        "  tf.keras.layers.Dense(units=2048, activation=\"relu\", name=\"hidden_layer_3\", kernel_regularizer=l2(L2_Lambda)),\n",
        "  tf.keras.layers.Dropout(Drop_Prob),\n",
        "  tf.keras.layers.Dense(units=4096, activation=\"relu\", name=\"hidden_layer_4\", kernel_regularizer=l2(L2_Lambda)),\n",
        "  tf.keras.layers.Dropout(Drop_Prob),\n",
        "  tf.keras.layers.Dense(units=2048, activation=\"relu\", name=\"hidden_layer_5\", kernel_regularizer=l2(L2_Lambda)),\n",
        "  tf.keras.layers.Dropout(Drop_Prob),\n",
        "  tf.keras.layers.Dense(units=1024, activation=\"relu\", name=\"hidden_layer_6\", kernel_regularizer=l2(L2_Lambda)),\n",
        "  tf.keras.layers.Dropout(Drop_Prob),\n",
        "  tf.keras.layers.Dense(units=512, activation=\"relu\", name=\"hidden_layer_7\", kernel_regularizer=l2(L2_Lambda)),\n",
        "  tf.keras.layers.Dropout(Drop_Prob),\n",
        "  tf.keras.layers.Dense(units=256, activation=\"relu\", name=\"hidden_layer_8\", kernel_regularizer=l2(L2_Lambda)),\n",
        "  tf.keras.layers.Dropout(Drop_Prob),\n",
        "  tf.keras.layers.Dense(units=128, activation=\"relu\", name=\"hidden_layer_9\", kernel_regularizer=l2(L2_Lambda)),\n",
        "  tf.keras.layers.Dense(units=10, activation=\"relu\", name=\"hidden_layer_10\", kernel_regularizer=l2(L2_Lambda)),\n",
        "  \n",
        "  # output_layer\n",
        "  tf.keras.layers.Dense(units=1, activation=\"sigmoid\", name=\"output_layer\") # ==> output a value between 0~1，so use sigmoid\n",
        "])\n",
        "\n",
        "# 設定超參數\n",
        "Num_of_Epoch = 50 \n",
        "Batch_Size = 2000 \n",
        "Learning_Rate = 1e-4 \n",
        "\n",
        "# Loss Function\n",
        "Loss_Function = tf.keras.losses.BinaryCrossentropy()\n",
        "\n",
        "# Optimizer\n",
        "Optimizer_Adam = tf.keras.optimizers.Adam(learning_rate = Learning_Rate)\n",
        "\n",
        "# compile\n",
        "DNN_model.compile(\n",
        "  optimizer=Optimizer_Adam,\n",
        "  loss=Loss_Function, \n",
        ")\n",
        "\n",
        "# Learning Rate Scheduler\n",
        "def scheduler(epoch, lr):\n",
        "  if epoch < 30:    # recommended to set 1/2 of Epoch\n",
        "    return lr\n",
        "  else:\n",
        "    return lr * tf.math.exp(-0.1)\n",
        "\n",
        "callback = tf.keras.callbacks.LearningRateScheduler(scheduler)"
      ],
      "metadata": {
        "id": "a_evsopwsfKR"
      },
      "execution_count": 14,
      "outputs": []
    },
    {
      "cell_type": "markdown",
      "source": [
        "## Step 8: Train model"
      ],
      "metadata": {
        "id": "zCPZ1_Fcut54"
      }
    },
    {
      "cell_type": "code",
      "source": [
        "History = DNN_model.fit(\n",
        "  x = X_train,\n",
        "  y = Y_train,\n",
        "  validation_data = (X_dev, Y_dev),\n",
        "  epochs = Num_of_Epoch,\n",
        "  batch_size = Batch_Size,\n",
        "  callbacks = [callback]\n",
        ")"
      ],
      "metadata": {
        "colab": {
          "base_uri": "https://localhost:8080/"
        },
        "id": "MlKLPDDsu0dR",
        "outputId": "c07adb95-4f88-46d8-c406-bbd3014cebe3"
      },
      "execution_count": 17,
      "outputs": [
        {
          "output_type": "stream",
          "name": "stdout",
          "text": [
            "Epoch 1/50\n",
            "80/80 [==============================] - 20s 179ms/step - loss: 77.9816 - val_loss: 55.8824 - lr: 1.0000e-04\n",
            "Epoch 2/50\n",
            "80/80 [==============================] - 14s 173ms/step - loss: 41.7988 - val_loss: 30.1277 - lr: 1.0000e-04\n",
            "Epoch 3/50\n",
            "80/80 [==============================] - 14s 170ms/step - loss: 22.7425 - val_loss: 16.6259 - lr: 1.0000e-04\n",
            "Epoch 4/50\n",
            "80/80 [==============================] - 14s 174ms/step - loss: 12.7654 - val_loss: 9.5606 - lr: 1.0000e-04\n",
            "Epoch 5/50\n",
            "80/80 [==============================] - 14s 170ms/step - loss: 7.5170 - val_loss: 5.8026 - lr: 1.0000e-04\n",
            "Epoch 6/50\n",
            "80/80 [==============================] - 14s 172ms/step - loss: 4.6826 - val_loss: 3.7287 - lr: 1.0000e-04\n",
            "Epoch 7/50\n",
            "80/80 [==============================] - 14s 176ms/step - loss: 3.0852 - val_loss: 2.5277 - lr: 1.0000e-04\n",
            "Epoch 8/50\n",
            "80/80 [==============================] - 14s 170ms/step - loss: 2.1397 - val_loss: 1.7977 - lr: 1.0000e-04\n",
            "Epoch 9/50\n",
            "80/80 [==============================] - 14s 174ms/step - loss: 1.5537 - val_loss: 1.3356 - lr: 1.0000e-04\n",
            "Epoch 10/50\n",
            "80/80 [==============================] - 14s 170ms/step - loss: 1.1765 - val_loss: 1.0333 - lr: 1.0000e-04\n",
            "Epoch 11/50\n",
            "80/80 [==============================] - 14s 170ms/step - loss: 0.9268 - val_loss: 0.8305 - lr: 1.0000e-04\n",
            "Epoch 12/50\n",
            "80/80 [==============================] - 14s 170ms/step - loss: 0.7578 - val_loss: 0.6914 - lr: 1.0000e-04\n",
            "Epoch 13/50\n",
            "80/80 [==============================] - 14s 170ms/step - loss: 0.6409 - val_loss: 0.5946 - lr: 1.0000e-04\n",
            "Epoch 14/50\n",
            "80/80 [==============================] - 14s 171ms/step - loss: 0.5596 - val_loss: 0.5274 - lr: 1.0000e-04\n",
            "Epoch 15/50\n",
            "80/80 [==============================] - 14s 176ms/step - loss: 0.5011 - val_loss: 0.4778 - lr: 1.0000e-04\n",
            "Epoch 16/50\n",
            "80/80 [==============================] - 14s 174ms/step - loss: 0.4597 - val_loss: 0.4420 - lr: 1.0000e-04\n",
            "Epoch 17/50\n",
            "80/80 [==============================] - 14s 170ms/step - loss: 0.4295 - val_loss: 0.4168 - lr: 1.0000e-04\n",
            "Epoch 18/50\n",
            "80/80 [==============================] - 14s 175ms/step - loss: 0.4070 - val_loss: 0.3973 - lr: 1.0000e-04\n",
            "Epoch 19/50\n",
            "80/80 [==============================] - 14s 174ms/step - loss: 0.3910 - val_loss: 0.3842 - lr: 1.0000e-04\n",
            "Epoch 20/50\n",
            "80/80 [==============================] - 14s 171ms/step - loss: 0.3795 - val_loss: 0.3744 - lr: 1.0000e-04\n",
            "Epoch 21/50\n",
            "80/80 [==============================] - 14s 175ms/step - loss: 0.3704 - val_loss: 0.3660 - lr: 1.0000e-04\n",
            "Epoch 22/50\n",
            "80/80 [==============================] - 14s 174ms/step - loss: 0.3640 - val_loss: 0.3607 - lr: 1.0000e-04\n",
            "Epoch 23/50\n",
            "80/80 [==============================] - 14s 170ms/step - loss: 0.3584 - val_loss: 0.3553 - lr: 1.0000e-04\n",
            "Epoch 24/50\n",
            "80/80 [==============================] - 14s 175ms/step - loss: 0.3549 - val_loss: 0.3540 - lr: 1.0000e-04\n",
            "Epoch 25/50\n",
            "80/80 [==============================] - 14s 171ms/step - loss: 0.3519 - val_loss: 0.3491 - lr: 1.0000e-04\n",
            "Epoch 26/50\n",
            "80/80 [==============================] - 14s 175ms/step - loss: 0.3490 - val_loss: 0.3471 - lr: 1.0000e-04\n",
            "Epoch 27/50\n",
            "80/80 [==============================] - 14s 174ms/step - loss: 0.3476 - val_loss: 0.3462 - lr: 1.0000e-04\n",
            "Epoch 28/50\n",
            "80/80 [==============================] - 14s 174ms/step - loss: 0.3456 - val_loss: 0.3437 - lr: 1.0000e-04\n",
            "Epoch 29/50\n",
            "80/80 [==============================] - 14s 175ms/step - loss: 0.3446 - val_loss: 0.3437 - lr: 1.0000e-04\n",
            "Epoch 30/50\n",
            "80/80 [==============================] - 14s 174ms/step - loss: 0.3436 - val_loss: 0.3434 - lr: 1.0000e-04\n",
            "Epoch 31/50\n",
            "80/80 [==============================] - 14s 174ms/step - loss: 0.3423 - val_loss: 0.3407 - lr: 9.0484e-05\n",
            "Epoch 32/50\n",
            "80/80 [==============================] - 14s 170ms/step - loss: 0.3418 - val_loss: 0.3402 - lr: 8.1873e-05\n",
            "Epoch 33/50\n",
            "80/80 [==============================] - 14s 170ms/step - loss: 0.3410 - val_loss: 0.3395 - lr: 7.4082e-05\n",
            "Epoch 34/50\n",
            "80/80 [==============================] - 14s 170ms/step - loss: 0.3410 - val_loss: 0.3397 - lr: 6.7032e-05\n",
            "Epoch 35/50\n",
            "80/80 [==============================] - 14s 171ms/step - loss: 0.3402 - val_loss: 0.3395 - lr: 6.0653e-05\n",
            "Epoch 36/50\n",
            "80/80 [==============================] - 14s 170ms/step - loss: 0.3396 - val_loss: 0.3384 - lr: 5.4881e-05\n",
            "Epoch 37/50\n",
            "80/80 [==============================] - 14s 171ms/step - loss: 0.3391 - val_loss: 0.3381 - lr: 4.9659e-05\n",
            "Epoch 38/50\n",
            "80/80 [==============================] - 14s 171ms/step - loss: 0.3389 - val_loss: 0.3382 - lr: 4.4933e-05\n",
            "Epoch 39/50\n",
            "80/80 [==============================] - 14s 170ms/step - loss: 0.3388 - val_loss: 0.3378 - lr: 4.0657e-05\n",
            "Epoch 40/50\n",
            "80/80 [==============================] - 14s 175ms/step - loss: 0.3385 - val_loss: 0.3387 - lr: 3.6788e-05\n",
            "Epoch 41/50\n",
            "80/80 [==============================] - 14s 171ms/step - loss: 0.3382 - val_loss: 0.3374 - lr: 3.3287e-05\n",
            "Epoch 42/50\n",
            "80/80 [==============================] - 14s 171ms/step - loss: 0.3381 - val_loss: 0.3372 - lr: 3.0119e-05\n",
            "Epoch 43/50\n",
            "80/80 [==============================] - 14s 175ms/step - loss: 0.3377 - val_loss: 0.3371 - lr: 2.7253e-05\n",
            "Epoch 44/50\n",
            "80/80 [==============================] - 14s 171ms/step - loss: 0.3375 - val_loss: 0.3370 - lr: 2.4660e-05\n",
            "Epoch 45/50\n",
            "80/80 [==============================] - 14s 175ms/step - loss: 0.3374 - val_loss: 0.3371 - lr: 2.2313e-05\n",
            "Epoch 46/50\n",
            "80/80 [==============================] - 14s 171ms/step - loss: 0.3375 - val_loss: 0.3368 - lr: 2.0190e-05\n",
            "Epoch 47/50\n",
            "80/80 [==============================] - 14s 175ms/step - loss: 0.3373 - val_loss: 0.3368 - lr: 1.8268e-05\n",
            "Epoch 48/50\n",
            "80/80 [==============================] - 14s 171ms/step - loss: 0.3370 - val_loss: 0.3366 - lr: 1.6530e-05\n",
            "Epoch 49/50\n",
            "80/80 [==============================] - 14s 175ms/step - loss: 0.3372 - val_loss: 0.3369 - lr: 1.4957e-05\n",
            "Epoch 50/50\n",
            "80/80 [==============================] - 14s 175ms/step - loss: 0.3369 - val_loss: 0.3366 - lr: 1.3534e-05\n"
          ]
        }
      ]
    },
    {
      "cell_type": "markdown",
      "source": [
        "## Step 9: Evaluate model performance"
      ],
      "metadata": {
        "id": "TG96ZYqxvPRz"
      }
    },
    {
      "cell_type": "code",
      "source": [
        "print(\"History 儲存的內容有：\", History.history.keys())\n",
        "\n",
        "Train_Loss = History.history[\"loss\"]\n",
        "Val_Loss = History.history[\"val_loss\"]\n",
        "\n",
        "# Draw the curve of loss with epoch\n",
        "plt.figure(figsize=(8,6))\n",
        "plt.plot(Train_Loss, label=\"Train Loss\")\n",
        "plt.plot(Val_Loss, label=\"Val Loss\")\n",
        "plt.title(\"Loss\", fontsize=20)\n",
        "plt.xlabel(\"Epoch\", fontsize=16)\n",
        "plt.ylabel(\"Loss\", fontsize=16)\n",
        "plt.legend(fontsize=16)\n",
        "plt.show()"
      ],
      "metadata": {
        "colab": {
          "base_uri": "https://localhost:8080/",
          "height": 431
        },
        "id": "SVe-yWKjvYq0",
        "outputId": "8e6cf378-3722-40a9-a586-0c0cc2dd8f7b"
      },
      "execution_count": 18,
      "outputs": [
        {
          "output_type": "stream",
          "name": "stdout",
          "text": [
            "History 儲存的內容有： dict_keys(['loss', 'val_loss', 'lr'])\n"
          ]
        },
        {
          "output_type": "display_data",
          "data": {
            "text/plain": [
              "<Figure size 576x432 with 1 Axes>"
            ],
            "image/png": "[encoded data removed]"
          },
          "metadata": {
            "needs_background": "light"
          }
        }
      ]
    },
    {
      "cell_type": "markdown",
      "source": [
        "## Step 10: Predict and evaluate"
      ],
      "metadata": {
        "id": "6vQaOH5bwaKV"
      }
    },
    {
      "cell_type": "code",
      "source": [
        "# use for loop to search Threshold，can also be adjusted manually(recommended < 0.5)\n",
        "# note：can refer to Y_dev there are several positive ones\n",
        "\n",
        "Threshold = 0.235\n",
        "print(f\"將 Threshold 調整成 {Threshold} (大於此值為陽性 1 ，反之為陰性 0 )\\n\")"
      ],
      "metadata": {
        "colab": {
          "base_uri": "https://localhost:8080/"
        },
        "id": "P7nhOgk8wfkD",
        "outputId": "d2c78d5c-f646-4dbd-a245-c3e2d916169a"
      },
      "execution_count": 19,
      "outputs": [
        {
          "output_type": "stream",
          "name": "stdout",
          "text": [
            "將 Threshold 調整成 0.235 (大於此值為陽性 1 ，反之為陰性 0 )\n",
            "\n"
          ]
        }
      ]
    },
    {
      "cell_type": "code",
      "source": [
        "# note：X_dev.to_numpy(), tensor.numpy(), reshape(-1)\n",
        "\n",
        "from sklearn.metrics import accuracy_score, precision_score, recall_score, f1_score\n",
        "from time import time\n",
        "\n",
        "# predicted probability\n",
        "tic = time()\n",
        "DNN_Positive_Proba = DNN_model(X_dev.to_numpy()).numpy().reshape(-1)\n",
        "DNN_Decision = (DNN_Positive_Proba > Threshold).astype(int)\n",
        "toc = time()\n",
        "print(f\"預測「機率」所花費時間為 {round(toc-tic)} (sec)\\n\")\n",
        "\n",
        "# Classification model performance\n",
        "print(f\"準確率(Accuracy)為：{round(accuracy_score(Y_dev, DNN_Decision)*100, 2)} %\")\n",
        "print(f\"精確率(Precision): {round(precision_score(Y_dev, DNN_Decision, pos_label=1)*100, 2)} %\")\n",
        "print(f\"召回率(Recall)): {round(recall_score(Y_dev, DNN_Decision, pos_label=1)*100, 2)} %\")\n",
        "print(f\"F1分數(F1-Score): {round(f1_score(Y_dev, DNN_Decision, pos_label=1)*100, 2)} %\")"
      ],
      "metadata": {
        "colab": {
          "base_uri": "https://localhost:8080/"
        },
        "id": "kLNMkdgNxJdI",
        "outputId": "7b16bcf2-2b76-4134-ff28-5df5ef3d2e31"
      },
      "execution_count": 20,
      "outputs": [
        {
          "output_type": "stream",
          "name": "stdout",
          "text": [
            "預測「機率」所花費時間為 1 (sec)\n",
            "\n",
            "準確率(Accuracy)為：89.08 %\n",
            "精確率(Precision): 46.11 %\n",
            "召回率(Recall)): 53.31 %\n",
            "F1分數(F1-Score): 49.45 %\n"
          ]
        }
      ]
    },
    {
      "cell_type": "code",
      "source": [
        "# note: roc_curve(Y_true, Positive_Probability, pos_label), auc(frp, tpr)\n",
        "\n",
        "from sklearn.metrics import roc_curve, auc\n",
        "import matplotlib.pyplot as plt\n",
        "\n",
        "# first model\n",
        "DNN_fpr, DNN_tpr, DNN_thresholds = roc_curve(Y_dev, DNN_Positive_Proba, pos_label=1)\n",
        "DNN_AUC = auc(DNN_fpr, DNN_tpr)\n",
        "\n",
        "# draw ROC curve\n",
        "plt.figure(figsize=(6,6))\n",
        "plt.plot(DNN_fpr, DNN_tpr, label=f\"RF AUC={round(DNN_AUC,3)}\")\n",
        "plt.title(\"ROC Curve\", fontsize=20)\n",
        "plt.xlabel(\"False Positive Rate\", fontsize=18)\n",
        "plt.ylabel(\"True Positive Rate\", fontsize=18)\n",
        "plt.xticks(fontsize=16)\n",
        "plt.yticks(fontsize=16)\n",
        "plt.legend()\n",
        "plt.show()"
      ],
      "metadata": {
        "colab": {
          "base_uri": "https://localhost:8080/",
          "height": 422
        },
        "id": "NWefpKLp1S4W",
        "outputId": "bbe64b46-3187-4c76-a40c-87c7e4c5e4d2"
      },
      "execution_count": 22,
      "outputs": [
        {
          "output_type": "display_data",
          "data": {
            "text/plain": [
              "<Figure size 432x432 with 1 Axes>"
            ],
            "image/png": "[encoded data removed]"
          },
          "metadata": {
            "needs_background": "light"
          }
        }
      ]
    }
  ]
}